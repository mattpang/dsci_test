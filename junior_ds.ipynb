{
 "cells": [
  {
   "cell_type": "markdown",
   "metadata": {},
   "source": [
    "## Junior data scientist coding test\n",
    "\n",
    "## Question 1\n",
    "\n",
    "For a list sized n, there's n-1 acending digits starting from 0, and always one duplicate. \n",
    "\n",
    "For example: \n",
    "[0,1,2,2,3,4]\n",
    "\n",
    "Duplicate is 2\n",
    "\n",
    "Please write a Python function to return the duplicate number.\n"
   ]
  },
  {
   "cell_type": "code",
   "execution_count": 31,
   "metadata": {},
   "outputs": [
    {
     "name": "stdout",
     "output_type": "stream",
     "text": [
      "6 6 6\n",
      "6 6 6\n"
     ]
    }
   ],
   "source": [
    "def find_dup_set(nlist):\n",
    "    return sum(nlist)-sum(list(set(nlist)))\n",
    "\n",
    "def find_dup(nlist):\n",
    "    n = len(nlist)-1\n",
    "    total = n*(n+1)/2\n",
    "    return int(sum(nlist)-total)\n",
    "\n",
    "def find_dup_loop(nlist):\n",
    "    seen = list()\n",
    "    for n in nlist:\n",
    "        if n in seen:\n",
    "            return n\n",
    "        else:\n",
    "            seen.append(n)\n",
    "\n",
    "test_array = [1,2,3,4,5,6,6]\n",
    "big_array = list(range(1,10000))\n",
    "big_array.append(6)\n",
    "print(find_dup(test_array),find_dup_set(test_array),find_dup_loop(test_array))\n",
    "print(find_dup(big_array),find_dup_set(big_array),find_dup_loop(big_array))"
   ]
  },
  {
   "cell_type": "markdown",
   "metadata": {},
   "source": [
    "## Question 1b\n",
    "\n",
    "Given the equation, $n(n+1)/2$ which gives the sum of the series from 1 to digit n. \n",
    "\n",
    "How can you write a function to make use of this?"
   ]
  },
  {
   "cell_type": "code",
   "execution_count": null,
   "metadata": {},
   "outputs": [],
   "source": []
  },
  {
   "cell_type": "markdown",
   "metadata": {},
   "source": [
    "## Question 2\n",
    "\n",
    "Please clean up the following file: 'flight_data.csv' and plot the distribution of weights in lbs. \n",
    "\n",
    "1 pound = 0.453592 kg\n"
   ]
  },
  {
   "cell_type": "code",
   "execution_count": 10,
   "metadata": {},
   "outputs": [
    {
     "data": {
      "text/plain": [
       "5050.0"
      ]
     },
     "execution_count": 10,
     "metadata": {},
     "output_type": "execute_result"
    }
   ],
   "source": []
  },
  {
   "cell_type": "markdown",
   "metadata": {},
   "source": [
    "# Question 3\n",
    "\n",
    "# Would we expect them to know any SQL? I think not. \n",
    "\n",
    "SQL"
   ]
  },
  {
   "cell_type": "code",
   "execution_count": null,
   "metadata": {},
   "outputs": [],
   "source": []
  },
  {
   "cell_type": "code",
   "execution_count": null,
   "metadata": {},
   "outputs": [],
   "source": []
  }
 ],
 "metadata": {
  "interpreter": {
   "hash": "35cd91a8ce26511603cfbc18e9de46637b0a0777ae932d586cc188d5d5a87f1c"
  },
  "kernelspec": {
   "display_name": "Python 3.9.10 ('base')",
   "language": "python",
   "name": "python3"
  },
  "language_info": {
   "codemirror_mode": {
    "name": "ipython",
    "version": 3
   },
   "file_extension": ".py",
   "mimetype": "text/x-python",
   "name": "python",
   "nbconvert_exporter": "python",
   "pygments_lexer": "ipython3",
   "version": "3.9.10"
  },
  "orig_nbformat": 4
 },
 "nbformat": 4,
 "nbformat_minor": 2
}
