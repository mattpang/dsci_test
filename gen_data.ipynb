{
 "cells": [
  {
   "cell_type": "code",
   "execution_count": null,
   "metadata": {},
   "outputs": [],
   "source": [
    "import pandas as pd\n",
    "import numpy as np"
   ]
  },
  {
   "cell_type": "code",
   "execution_count": null,
   "metadata": {},
   "outputs": [],
   "source": [
    "imperial_df = pd.DataFrame()"
   ]
  },
  {
   "cell_type": "code",
   "execution_count": null,
   "metadata": {},
   "outputs": [],
   "source": [
    "r = np.random.randint(low=25000,high = 45000,size=5000)*1.0\n",
    "imperial_df['weight'] = r.astype(int)\n",
    "imperial_df['weight'] = imperial_df['weight'].astype('str')+' lb'"
   ]
  },
  {
   "cell_type": "code",
   "execution_count": null,
   "metadata": {},
   "outputs": [],
   "source": [
    "metric_df = pd.DataFrame()\n",
    "r = (np.round(np.random.randint(low=25000,high = 45000,size=5000)*0.453592,0)).astype(int)\n",
    "metric_df['weight'] = r\n",
    "metric_df['weight'] = metric_df['weight'].astype('str')+' kg'\n",
    "\n"
   ]
  },
  {
   "cell_type": "code",
   "execution_count": null,
   "metadata": {},
   "outputs": [],
   "source": [
    "final_df = pd.concat([imperial_df,metric_df]).reset_index(drop=True)\n",
    "final_df['max_accel_g'] = np.round(np.random.random(size=len(final_df))*3,2)\n",
    "final_df.loc[(final_df['max_accel_g'] < 0.4),'max_accel_g'] = '--'\n",
    "final_df['max_accel_g'] = final_df['max_accel_g'].astype('str')\n",
    "final_df['max_accel_g'] = final_df['max_accel_g'].fillna('--')\n",
    "\n",
    "final_df['max_airspeed'] = np.round((1+np.round(np.random.random(size=len(final_df))*3,2)/5)*400,2)"
   ]
  },
  {
   "cell_type": "code",
   "execution_count": null,
   "metadata": {},
   "outputs": [],
   "source": [
    "keys = np.sort(np.unique(np.random.randint(low=1000,high = 100000,size=20000))[0:len(final_df)])\n",
    "final_df['id'] = keys\n",
    "final_df.to_csv('flight_data.csv',index=False)"
   ]
  },
  {
   "cell_type": "code",
   "execution_count": null,
   "metadata": {},
   "outputs": [],
   "source": [
    "fdf = pd.read_csv('flight_data.csv')\n",
    "fdf"
   ]
  }
 ],
 "metadata": {
  "interpreter": {
   "hash": "35cd91a8ce26511603cfbc18e9de46637b0a0777ae932d586cc188d5d5a87f1c"
  },
  "kernelspec": {
   "display_name": "Python 3.9.10 ('base')",
   "language": "python",
   "name": "python3"
  },
  "language_info": {
   "codemirror_mode": {
    "name": "ipython",
    "version": 3
   },
   "file_extension": ".py",
   "mimetype": "text/x-python",
   "name": "python",
   "nbconvert_exporter": "python",
   "pygments_lexer": "ipython3",
   "version": "3.9.10"
  },
  "orig_nbformat": 4
 },
 "nbformat": 4,
 "nbformat_minor": 2
}
