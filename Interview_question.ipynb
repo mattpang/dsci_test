{
 "cells": [
  {
   "cell_type": "markdown",
   "id": "fda19f6c",
   "metadata": {},
   "source": [
    "# Interview question\n",
    "\n",
    "Flight recorders record the values of various parameters over the duration of a flight.\n",
    "\n",
    "Below, we have picked out 'Airspeed' (roughly: the speed of the aircraft relative to the air, measured in knots), and 'Altitude Radio' (a RADAR based measurement of the aircraft's height above the ground, measured in feet). The index in the dataframe gives the time, in seconds, since the start of the recording.\n",
    "\n",
    "The two parameters are recorded with different resolutions (number of recorded values per second), which explains some of the missing values in Altitude Radio. Values might be missing for other reasons too (e.g. the radio altimeter stops working above about 3,000ft)."
   ]
  },
  {
   "cell_type": "code",
   "execution_count": null,
   "id": "cede1c18",
   "metadata": {},
   "outputs": [],
   "source": [
    "import pickle\n",
    "import pandas as pd\n",
    "import numpy as np\n",
    "from matplotlib import pyplot as plt"
   ]
  },
  {
   "cell_type": "code",
   "execution_count": null,
   "id": "4c08c519",
   "metadata": {},
   "outputs": [],
   "source": [
    "flight_data = pd.read_parquet('flight_data.parquet')\n",
    "flight_data"
   ]
  },
  {
   "cell_type": "code",
   "execution_count": null,
   "id": "c6cab334",
   "metadata": {},
   "outputs": [],
   "source": [
    "flight_data['Airspeed'].dropna().plot()\n"
   ]
  },
  {
   "cell_type": "code",
   "execution_count": null,
   "id": "bd8661f4",
   "metadata": {},
   "outputs": [],
   "source": [
    "flight_data['Altitude Radio'].dropna().plot()"
   ]
  },
  {
   "cell_type": "markdown",
   "id": "dad848a1",
   "metadata": {},
   "source": [
    "Can you find the maximum value of the Airspeed when the Altitude Radio is between 500-1000ft?"
   ]
  },
  {
   "cell_type": "markdown",
   "id": "1a7fa6ae",
   "metadata": {},
   "source": [
    "## Example complete dataset"
   ]
  },
  {
   "cell_type": "code",
   "execution_count": null,
   "id": "01876552",
   "metadata": {},
   "outputs": [],
   "source": [
    "complete_dataset = pd.read_parquet('all_data_example.parquet')\n",
    "complete_dataset"
   ]
  },
  {
   "cell_type": "code",
   "execution_count": null,
   "id": "ba29dc78",
   "metadata": {},
   "outputs": [],
   "source": []
  },
  {
   "cell_type": "code",
   "execution_count": null,
   "id": "cba143fb",
   "metadata": {},
   "outputs": [],
   "source": []
  },
  {
   "cell_type": "markdown",
   "id": "f36c9b9f",
   "metadata": {},
   "source": [
    "# Numpy test\n",
    "\n",
    "For a grid of (0 to 50,0 to 75), please randomly sample 10000 points within. Then tell us how many points lie within and on a circle of radius 5 with origin at (25,25)."
   ]
  },
  {
   "cell_type": "code",
   "execution_count": null,
   "id": "275db4d6",
   "metadata": {},
   "outputs": [],
   "source": []
  }
 ],
 "metadata": {
  "kernelspec": {
   "display_name": "Python 3",
   "language": "python",
   "name": "python3"
  },
  "language_info": {
   "codemirror_mode": {
    "name": "ipython",
    "version": 3
   },
   "file_extension": ".py",
   "mimetype": "text/x-python",
   "name": "python",
   "nbconvert_exporter": "python",
   "pygments_lexer": "ipython3",
   "version": "3.8.8"
  }
 },
 "nbformat": 4,
 "nbformat_minor": 5
}
